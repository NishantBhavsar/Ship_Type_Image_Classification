{
 "cells": [
  {
   "cell_type": "code",
   "execution_count": 103,
   "metadata": {},
   "outputs": [],
   "source": [
    "import pandas as pd\n",
    "import numpy as np\n",
    "from sklearn.metrics import f1_score, confusion_matrix\n",
    "import matplotlib.pyplot as plt\n",
    "%matplotlib inline\n",
    "import seaborn as sns\n",
    "import itertools\n",
    "from pathlib import Path"
   ]
  },
  {
   "cell_type": "code",
   "execution_count": 5,
   "metadata": {},
   "outputs": [],
   "source": [
    "train_df = pd.read_csv('../input/train.csv')"
   ]
  },
  {
   "cell_type": "code",
   "execution_count": 7,
   "metadata": {},
   "outputs": [],
   "source": [
    "train_df['category'] = train_df['category'] + 1"
   ]
  },
  {
   "cell_type": "code",
   "execution_count": 8,
   "metadata": {},
   "outputs": [
    {
     "data": {
      "text/html": [
       "<div>\n",
       "<style scoped>\n",
       "    .dataframe tbody tr th:only-of-type {\n",
       "        vertical-align: middle;\n",
       "    }\n",
       "\n",
       "    .dataframe tbody tr th {\n",
       "        vertical-align: top;\n",
       "    }\n",
       "\n",
       "    .dataframe thead th {\n",
       "        text-align: right;\n",
       "    }\n",
       "</style>\n",
       "<table border=\"1\" class=\"dataframe\">\n",
       "  <thead>\n",
       "    <tr style=\"text-align: right;\">\n",
       "      <th></th>\n",
       "      <th>image</th>\n",
       "      <th>category</th>\n",
       "      <th>valid</th>\n",
       "    </tr>\n",
       "  </thead>\n",
       "  <tbody>\n",
       "    <tr>\n",
       "      <th>0</th>\n",
       "      <td>2827293.jpg</td>\n",
       "      <td>1</td>\n",
       "      <td>False</td>\n",
       "    </tr>\n",
       "    <tr>\n",
       "      <th>1</th>\n",
       "      <td>2324207.jpg</td>\n",
       "      <td>4</td>\n",
       "      <td>False</td>\n",
       "    </tr>\n",
       "    <tr>\n",
       "      <th>2</th>\n",
       "      <td>2816925.jpg</td>\n",
       "      <td>5</td>\n",
       "      <td>False</td>\n",
       "    </tr>\n",
       "    <tr>\n",
       "      <th>3</th>\n",
       "      <td>2903004.jpg</td>\n",
       "      <td>3</td>\n",
       "      <td>False</td>\n",
       "    </tr>\n",
       "    <tr>\n",
       "      <th>4</th>\n",
       "      <td>2884341.jpg</td>\n",
       "      <td>1</td>\n",
       "      <td>False</td>\n",
       "    </tr>\n",
       "  </tbody>\n",
       "</table>\n",
       "</div>"
      ],
      "text/plain": [
       "         image  category  valid\n",
       "0  2827293.jpg         1  False\n",
       "1  2324207.jpg         4  False\n",
       "2  2816925.jpg         5  False\n",
       "3  2903004.jpg         3  False\n",
       "4  2884341.jpg         1  False"
      ]
     },
     "execution_count": 8,
     "metadata": {},
     "output_type": "execute_result"
    }
   ],
   "source": [
    "train_df.head()"
   ]
  },
  {
   "cell_type": "code",
   "execution_count": 9,
   "metadata": {},
   "outputs": [],
   "source": [
    "label_mapper = {1: 'Cargo', \n",
    "                2: 'Military', \n",
    "                3: 'Carrier', \n",
    "                4: 'Cruise', \n",
    "                5: 'Tankers'}"
   ]
  },
  {
   "cell_type": "code",
   "execution_count": 10,
   "metadata": {},
   "outputs": [
    {
     "data": {
      "text/plain": [
       "{'Cargo': 1, 'Military': 2, 'Carrier': 3, 'Cruise': 4, 'Tankers': 5}"
      ]
     },
     "execution_count": 10,
     "metadata": {},
     "output_type": "execute_result"
    }
   ],
   "source": [
    "label_mapper_c2i = {v:i for i, v in label_mapper.items()}\n",
    "label_mapper_c2i"
   ]
  },
  {
   "cell_type": "code",
   "execution_count": 11,
   "metadata": {},
   "outputs": [],
   "source": [
    "pred_i2c = {0: 'Cargo', 1: 'Carrier', 2: 'Cruise', 3: 'Military', 4: 'Tankers'}"
   ]
  },
  {
   "cell_type": "code",
   "execution_count": null,
   "metadata": {},
   "outputs": [],
   "source": []
  },
  {
   "cell_type": "code",
   "execution_count": 190,
   "metadata": {},
   "outputs": [],
   "source": [
    "dn_val_df = pd.read_csv('dn121_pr/val_prob.csv')\n",
    "rnxt_val_df = pd.read_csv('rnxt101_pr/val_prob_tta.csv')\n",
    "sernxt_val_df = pd.read_csv('sernxt50_pr/val_prob_tta.csv')\n",
    "# incrn_val_df = pd.read_csv('incrnv2_pr/val_prob_tta.csv')"
   ]
  },
  {
   "cell_type": "code",
   "execution_count": 191,
   "metadata": {},
   "outputs": [
    {
     "data": {
      "text/html": [
       "<div>\n",
       "<style scoped>\n",
       "    .dataframe tbody tr th:only-of-type {\n",
       "        vertical-align: middle;\n",
       "    }\n",
       "\n",
       "    .dataframe tbody tr th {\n",
       "        vertical-align: top;\n",
       "    }\n",
       "\n",
       "    .dataframe thead th {\n",
       "        text-align: right;\n",
       "    }\n",
       "</style>\n",
       "<table border=\"1\" class=\"dataframe\">\n",
       "  <thead>\n",
       "    <tr style=\"text-align: right;\">\n",
       "      <th></th>\n",
       "      <th>Cargo</th>\n",
       "      <th>Carrier</th>\n",
       "      <th>Cruise</th>\n",
       "      <th>Military</th>\n",
       "      <th>Tankers</th>\n",
       "      <th>image</th>\n",
       "    </tr>\n",
       "  </thead>\n",
       "  <tbody>\n",
       "    <tr>\n",
       "      <th>0</th>\n",
       "      <td>1.318970e-08</td>\n",
       "      <td>1.764389e-07</td>\n",
       "      <td>2.782719e-10</td>\n",
       "      <td>9.981316e-10</td>\n",
       "      <td>9.999998e-01</td>\n",
       "      <td>2835355.jpg</td>\n",
       "    </tr>\n",
       "    <tr>\n",
       "      <th>1</th>\n",
       "      <td>2.166200e-10</td>\n",
       "      <td>2.015893e-13</td>\n",
       "      <td>1.000000e+00</td>\n",
       "      <td>3.215613e-12</td>\n",
       "      <td>1.700300e-13</td>\n",
       "      <td>2491051.jpg</td>\n",
       "    </tr>\n",
       "    <tr>\n",
       "      <th>2</th>\n",
       "      <td>1.665869e-03</td>\n",
       "      <td>4.943042e-07</td>\n",
       "      <td>9.507847e-07</td>\n",
       "      <td>1.450607e-07</td>\n",
       "      <td>9.983326e-01</td>\n",
       "      <td>2862151.jpg</td>\n",
       "    </tr>\n",
       "    <tr>\n",
       "      <th>3</th>\n",
       "      <td>9.999999e-01</td>\n",
       "      <td>4.840828e-14</td>\n",
       "      <td>6.012061e-08</td>\n",
       "      <td>1.004073e-10</td>\n",
       "      <td>1.493215e-09</td>\n",
       "      <td>2888474.jpg</td>\n",
       "    </tr>\n",
       "    <tr>\n",
       "      <th>4</th>\n",
       "      <td>7.326767e-13</td>\n",
       "      <td>1.804403e-13</td>\n",
       "      <td>6.351416e-13</td>\n",
       "      <td>1.000000e+00</td>\n",
       "      <td>3.396155e-13</td>\n",
       "      <td>697630.jpg</td>\n",
       "    </tr>\n",
       "  </tbody>\n",
       "</table>\n",
       "</div>"
      ],
      "text/plain": [
       "          Cargo       Carrier        Cruise      Military       Tankers  \\\n",
       "0  1.318970e-08  1.764389e-07  2.782719e-10  9.981316e-10  9.999998e-01   \n",
       "1  2.166200e-10  2.015893e-13  1.000000e+00  3.215613e-12  1.700300e-13   \n",
       "2  1.665869e-03  4.943042e-07  9.507847e-07  1.450607e-07  9.983326e-01   \n",
       "3  9.999999e-01  4.840828e-14  6.012061e-08  1.004073e-10  1.493215e-09   \n",
       "4  7.326767e-13  1.804403e-13  6.351416e-13  1.000000e+00  3.396155e-13   \n",
       "\n",
       "         image  \n",
       "0  2835355.jpg  \n",
       "1  2491051.jpg  \n",
       "2  2862151.jpg  \n",
       "3  2888474.jpg  \n",
       "4   697630.jpg  "
      ]
     },
     "execution_count": 191,
     "metadata": {},
     "output_type": "execute_result"
    }
   ],
   "source": [
    "dn_val_df.head()"
   ]
  },
  {
   "cell_type": "code",
   "execution_count": 192,
   "metadata": {},
   "outputs": [],
   "source": [
    "label_cols = ['Cargo', 'Carrier', 'Cruise', 'Military', 'Tankers']"
   ]
  },
  {
   "cell_type": "code",
   "execution_count": 193,
   "metadata": {},
   "outputs": [],
   "source": [
    "val_ground_labels = pd.merge(left=dn_val_df, right=train_df, on='image', how='left')['category'].map(label_mapper)"
   ]
  },
  {
   "cell_type": "code",
   "execution_count": 194,
   "metadata": {},
   "outputs": [],
   "source": [
    "w = np.array([5, 3, 2])"
   ]
  },
  {
   "cell_type": "code",
   "execution_count": 195,
   "metadata": {},
   "outputs": [],
   "source": [
    "# add all probs \n",
    "val_all_sum =  ((sernxt_val_df[label_cols].values * w[0]) + (dn_val_df[label_cols].values * w[1]) + (rnxt_val_df[label_cols].values * w[2]))/w.sum()"
   ]
  },
  {
   "cell_type": "code",
   "execution_count": 196,
   "metadata": {},
   "outputs": [],
   "source": [
    "val_pred = val_all_sum.argmax(1)"
   ]
  },
  {
   "cell_type": "code",
   "execution_count": 197,
   "metadata": {},
   "outputs": [],
   "source": [
    "val_pred = pd.Series(val_pred).map(pred_i2c)"
   ]
  },
  {
   "cell_type": "code",
   "execution_count": 198,
   "metadata": {},
   "outputs": [
    {
     "data": {
      "text/plain": [
       "0.9752062671319399"
      ]
     },
     "execution_count": 198,
     "metadata": {},
     "output_type": "execute_result"
    }
   ],
   "source": [
    "f1_score(y_true=val_ground_labels.map(label_mapper_c2i), y_pred=val_pred.map(label_mapper_c2i), average='weighted')"
   ]
  },
  {
   "cell_type": "code",
   "execution_count": null,
   "metadata": {},
   "outputs": [],
   "source": []
  },
  {
   "cell_type": "code",
   "execution_count": 199,
   "metadata": {},
   "outputs": [],
   "source": [
    "# https://www.kaggle.com/artgor/where-do-the-robots-drive\n",
    "\n",
    "def plot_confusion_matrix(truth, pred, classes, normalize=False, title=''):\n",
    "    cm = confusion_matrix(truth, pred)\n",
    "    if normalize:\n",
    "        cm = cm.astype('float') / cm.sum(axis=1)[:, np.newaxis]\n",
    "    \n",
    "    plt.figure(figsize=(5, 5))\n",
    "    plt.imshow(cm, interpolation='nearest', cmap=plt.cm.Blues)\n",
    "    plt.title('Confusion matrix', size=15)\n",
    "    plt.colorbar(fraction=0.046, pad=0.04)\n",
    "    tick_marks = np.arange(len(classes))\n",
    "    plt.xticks(tick_marks, classes, rotation=90)\n",
    "    plt.yticks(tick_marks, classes)\n",
    "\n",
    "    fmt = '.2f' if normalize else 'd'\n",
    "    thresh = cm.max() / 2.\n",
    "    for i, j in itertools.product(range(cm.shape[0]), range(cm.shape[1])):\n",
    "        plt.text(j, i, format(cm[i, j], fmt),\n",
    "                 horizontalalignment=\"center\",\n",
    "                 color=\"white\" if cm[i, j] > thresh else \"black\")\n",
    "\n",
    "    plt.ylabel('True label')\n",
    "    plt.xlabel('Predicted label')\n",
    "    plt.grid(False)\n",
    "    plt.tight_layout()"
   ]
  },
  {
   "cell_type": "code",
   "execution_count": 200,
   "metadata": {},
   "outputs": [
    {
     "data": {
      "image/png": "[encoded data removed]",
      "text/plain": [
       "<Figure size 360x360 with 2 Axes>"
      ]
     },
     "metadata": {},
     "output_type": "display_data"
    }
   ],
   "source": [
    "plot_confusion_matrix(val_ground_labels, val_pred, label_cols)"
   ]
  },
  {
   "cell_type": "code",
   "execution_count": null,
   "metadata": {},
   "outputs": [],
   "source": []
  },
  {
   "cell_type": "code",
   "execution_count": 201,
   "metadata": {},
   "outputs": [],
   "source": [
    "dn_test_df = pd.read_csv('dn121_pr/test_prob.csv')\n",
    "rnxt_test_df = pd.read_csv('rnxt101_pr/test_prob_tta.csv')\n",
    "sernxt_test_df = pd.read_csv('sernxt50_pr/test_prob_tta.csv')\n",
    "# incrn_val_df = pd.read_csv('incrnv2_pr/val_prob_tta.csv')"
   ]
  },
  {
   "cell_type": "code",
   "execution_count": 202,
   "metadata": {},
   "outputs": [],
   "source": [
    "# add all probs \n",
    "test_all_sum =  ((sernxt_test_df[label_cols].values * w[0]) + (dn_test_df[label_cols].values * w[1]) + (rnxt_test_df[label_cols].values * w[2]))/w.sum()"
   ]
  },
  {
   "cell_type": "code",
   "execution_count": 203,
   "metadata": {},
   "outputs": [],
   "source": [
    "test_pred = pd.Series(test_all_sum.argmax(axis=1)).map(pred_i2c).map(label_mapper_c2i).astype(int)"
   ]
  },
  {
   "cell_type": "code",
   "execution_count": 204,
   "metadata": {},
   "outputs": [],
   "source": [
    "# image file names\n",
    "test_img_names = dn_test_df['image'].values"
   ]
  },
  {
   "cell_type": "code",
   "execution_count": 205,
   "metadata": {},
   "outputs": [],
   "source": [
    "Path('ensemble/').mkdir(exist_ok=True)"
   ]
  },
  {
   "cell_type": "code",
   "execution_count": 206,
   "metadata": {},
   "outputs": [],
   "source": [
    "# make a submission\n",
    "pd.DataFrame({'image': test_img_names, 'category': test_pred.values}).to_csv('ensemble/sub_avg1.csv', index=False)"
   ]
  },
  {
   "cell_type": "code",
   "execution_count": null,
   "metadata": {},
   "outputs": [],
   "source": []
  }
 ],
 "metadata": {
  "kernelspec": {
   "display_name": "Python 3",
   "language": "python",
   "name": "python3"
  },
  "language_info": {
   "codemirror_mode": {
    "name": "ipython",
    "version": 3
   },
   "file_extension": ".py",
   "mimetype": "text/x-python",
   "name": "python",
   "nbconvert_exporter": "python",
   "pygments_lexer": "ipython3",
   "version": "3.6.7"
  }
 },
 "nbformat": 4,
 "nbformat_minor": 2
}
